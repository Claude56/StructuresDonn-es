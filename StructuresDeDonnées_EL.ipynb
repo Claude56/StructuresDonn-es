{
 "cells": [
  {
   "cell_type": "markdown",
   "metadata": {},
   "source": [
    "# Les structures de données:\n",
    "Une donnée est enregistrée en mémoire et caractérisée par un *type*  \n",
    "=> En Python:\n",
    "* Les types de données simples: entiers; booléens; flottants; chaines de caractères  \n",
    "* Les types de données construits: tuples; listes et dictionnaires. \n",
    "  \n",
    "=> D'autres structures de données sont parfois nécessaires dans les applications. Il faut alors les construires à partir des types simple et construit. On parle alors de *type abstrait*.  \n",
    "Selon que la mémoire utilisée par une structure est fixe ou expansive, elle est qualifiée de *structure statique* ou *dynamique*. Pour pouvoir être utilisée, une structure de données doit posséder une *interface* : un exemple d'interface est l'utilisation des crochet {} pour définir un dictionnaire en Python. L'efficacité et la complexité des opérations réalisées avec une structure dépendent de *l'implémentation* de la structure dans la machine. Celà impacte l'efficacité des algorithmes faisant appel à cette structure."
   ]
  },
  {
   "cell_type": "markdown",
   "metadata": {},
   "source": [
    "### Exemple avec le type liste de Python:\n",
    "Le type *liste* de Python est efficace, sauf peut être dans le cas suivant:"
   ]
  },
  {
   "cell_type": "code",
   "execution_count": 5,
   "metadata": {},
   "outputs": [],
   "source": [
    "#Création d'une liste:\n",
    "lst =[2,3,4,5,6,7,8,9]"
   ]
  },
  {
   "cell_type": "code",
   "execution_count": 6,
   "metadata": {},
   "outputs": [
    {
     "data": {
      "text/plain": [
       "[2, 3, 4, 5, 6, 7, 8, 9]"
      ]
     },
     "execution_count": 6,
     "metadata": {},
     "output_type": "execute_result"
    }
   ],
   "source": [
    "lst"
   ]
  },
  {
   "cell_type": "code",
   "execution_count": 7,
   "metadata": {},
   "outputs": [],
   "source": [
    "#Insertion au début:\n",
    "lst.insert(0,1)"
   ]
  },
  {
   "cell_type": "code",
   "execution_count": 8,
   "metadata": {},
   "outputs": [
    {
     "data": {
      "text/plain": [
       "[1, 2, 3, 4, 5, 6, 7, 8, 9]"
      ]
     },
     "execution_count": 8,
     "metadata": {},
     "output_type": "execute_result"
    }
   ],
   "source": [
    "lst"
   ]
  },
  {
   "cell_type": "code",
   "execution_count": 9,
   "metadata": {},
   "outputs": [
    {
     "name": "stdout",
     "output_type": "stream",
     "text": [
      "0.00016021728515625\n"
     ]
    }
   ],
   "source": [
    "#Estimation du temps d'exécution:\n",
    "\n",
    "import time\n",
    "'''\n",
    "A compléter\n",
    "'''"
   ]
  },
  {
   "cell_type": "markdown",
   "metadata": {},
   "source": [
    "### et pour une liste plus conséquente:"
   ]
  },
  {
   "cell_type": "code",
   "execution_count": 28,
   "metadata": {},
   "outputs": [
    {
     "name": "stdout",
     "output_type": "stream",
     "text": [
      "lst : 2 ==> 100000\n"
     ]
    }
   ],
   "source": [
    "# exemple avec une liste de 99999\n",
    "lst = []\n",
    "for i in range (99999):\n",
    "    lst.append(i+2)\n",
    "print(f\"lst : {lst[0]} ==> {lst[-1]}\")"
   ]
  },
  {
   "cell_type": "code",
   "execution_count": 29,
   "metadata": {},
   "outputs": [
    {
     "name": "stdout",
     "output_type": "stream",
     "text": [
      "lst : 1 ==> 100000\n",
      "0.00027298927307128906\n"
     ]
    }
   ],
   "source": [
    "#Estimation du temps d'exécution:\n",
    "\n",
    "import time\n",
    "'''\n",
    "A compléter\n",
    "'''"
   ]
  },
  {
   "cell_type": "markdown",
   "metadata": {},
   "source": [
    "### Conclusion ?"
   ]
  },
  {
   "cell_type": "code",
   "execution_count": 33,
   "metadata": {},
   "outputs": [
    {
     "name": "stdout",
     "output_type": "stream",
     "text": [
      "Longueur initiale : 99999 : 2 ==> 100000\n",
      "Nouvelle longueur : 100000 : : 2 ==> None\n",
      "lst : 1 ==> 100000\n"
     ]
    }
   ],
   "source": [
    "''' Illustration du détail de l'opération d'insertion:\n",
    "'''\n",
    "lst = []\n",
    "for i in range (99999): # Création d'une liste\n",
    "    lst.append(i+2)\n",
    "print(f\"Longueur initiale : {len(lst)} : {lst[0]} ==> {lst[-1]}\")\n",
    "lst.append(None) # 1/ allonger la liste par la fin\n",
    "print(f\"Nouvelle longueur : {len(lst)} : {lst[0]} ==> {lst[-1]}\")\n",
    "for _ in range (len(lst)-1, 0, -1): # 2/ décaler vers la droite \n",
    "      lst[_] = lst[_-1]\n",
    "lst[0] = 1 # 3/ insérer la valeur à sa place\n",
    "print(f\"lst : {lst[0]} ==> {lst[-1]}\")"
   ]
  },
  {
   "cell_type": "markdown",
   "metadata": {},
   "source": [
    "Une structure de liste de donnée plus efficace pour cette opération est: \n",
    "## La structure de liste chainée:"
   ]
  },
  {
   "cell_type": "markdown",
   "metadata": {},
   "source": [
    "Il s'agit d'utiliser une liste où chaque élément est lié à ses voisins (à la façon d'une chaîne):\n",
    "\n",
    "Cette structure ne peut pas être directement réalisée par l'objet liste de Python. La POO va nous permettre de définir cette structure. Pour cela il faut tout d'abord définir l'élément de base: le maillon ou cellule. Par exemple:"
   ]
  },
  {
   "cell_type": "code",
   "execution_count": 12,
   "metadata": {},
   "outputs": [],
   "source": [
    "class Cellule:\n",
    "    ''''Description de la cellule (ou maillon) d'une liste chaînée'''\n",
    "    def __init__(self, v, s):\n",
    "        self.valeur = v  # La valeur de la cellule\n",
    "        self.suivant = s # La référence de la cellule suivante"
   ]
  },
  {
   "cell_type": "code",
   "execution_count": 13,
   "metadata": {},
   "outputs": [],
   "source": [
    "# Déclaration de la liste:\n",
    "lstChaine = Cellule(1, Cellule (2, Cellule (3, None))) # None indique la fin de la liste"
   ]
  },
  {
   "cell_type": "markdown",
   "metadata": {},
   "source": [
    "=> Ecrire un script pour afficher les valeurs de la liste, dans un sens puis dans l'autre."
   ]
  },
  {
   "cell_type": "code",
   "execution_count": null,
   "metadata": {},
   "outputs": [],
   "source": []
  },
  {
   "cell_type": "markdown",
   "metadata": {},
   "source": [
    "=> Déclarer une liste plus grande:"
   ]
  },
  {
   "cell_type": "code",
   "execution_count": 51,
   "metadata": {},
   "outputs": [],
   "source": [
    "# Déclaration d'une liste de longueur 100: à la façon d'une réaction en  chaine ou d'une cascade => récursivité:\n",
    "def initListe(x, borne):\n",
    "    ''' A compléter '''\n",
    "lstChaine = initListe(1,100)"
   ]
  },
  {
   "cell_type": "code",
   "execution_count": 37,
   "metadata": {},
   "outputs": [
    {
     "name": "stdout",
     "output_type": "stream",
     "text": [
      "1; 2; 3; 4; 5; 6; 7; 8; 9; 10; 11; 12; 13; 14; 15; 16; 17; 18; 19; 20; 21; 22; 23; 24; 25; 26; 27; 28; 29; 30; 31; 32; 33; 34; 35; 36; 37; 38; 39; 40; 41; 42; 43; 44; 45; 46; 47; 48; 49; 50; 51; 52; 53; 54; 55; 56; 57; 58; 59; 60; 61; 62; 63; 64; 65; 66; 67; 68; 69; 70; 71; 72; 73; 74; 75; 76; 77; 78; 79; 80; 81; 82; 83; 84; 85; 86; 87; 88; 89; 90; 91; 92; 93; 94; 95; 96; 97; 98; 99; 100\n"
     ]
    }
   ],
   "source": [
    "# Lecture affichage de la liste:\n"
   ]
  },
  {
   "cell_type": "markdown",
   "metadata": {},
   "source": [
    "=> Insérer un élément au début:"
   ]
  },
  {
   "cell_type": "code",
   "execution_count": 52,
   "metadata": {},
   "outputs": [
    {
     "name": "stdout",
     "output_type": "stream",
     "text": [
      "0\n",
      "<__main__.Cellule object at 0x7ff1bc64d490>\n",
      "1\n"
     ]
    }
   ],
   "source": [
    "# Insertion d'un élément au début:\n",
    "''' A compléter '''"
   ]
  },
  {
   "cell_type": "markdown",
   "metadata": {},
   "source": [
    "=> Test et conclusion."
   ]
  },
  {
   "cell_type": "markdown",
   "metadata": {},
   "source": [
    "=> Compléter l'interface de votre objet, avec les méthodes qui vous semblent utiles."
   ]
  }
 ],
 "metadata": {
  "kernelspec": {
   "display_name": "Python 3",
   "language": "python",
   "name": "python3"
  },
  "language_info": {
   "codemirror_mode": {
    "name": "ipython",
    "version": 3
   },
   "file_extension": ".py",
   "mimetype": "text/x-python",
   "name": "python",
   "nbconvert_exporter": "python",
   "pygments_lexer": "ipython3",
   "version": "3.7.7"
  }
 },
 "nbformat": 4,
 "nbformat_minor": 4
}
